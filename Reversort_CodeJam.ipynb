{
  "nbformat": 4,
  "nbformat_minor": 0,
  "metadata": {
    "colab": {
      "name": "Reversort CodeJam.ipynb",
      "provenance": []
    },
    "kernelspec": {
      "name": "python3",
      "display_name": "Python 3"
    },
    "language_info": {
      "name": "python"
    }
  },
  "cells": [
    {
      "cell_type": "markdown",
      "metadata": {
        "id": "j8qrFml4IfpA"
      },
      "source": [
        "Reversort is an algorithm to sort a list of distinct integers in increasing order. The algorithm is based on the \"Reverse\" operation. Each application of this operation reverses the order of some contiguous part of the list.\n",
        "\n",
        "The pseudocode of the algorithm is the following:\n",
        "\n",
        "Reversort(L):\n",
        "  for i := 1 to length(L) - 1\n",
        "    j := position with the minimum value in L between i and length(L), inclusive\n",
        "    Reverse(L[i..j])\n",
        "After i−1 iterations, the positions 1,2,…,i−1 of the list contain the i−1 smallest elements of L, in increasing order. During the i-th iteration, the process reverses the sublist going from the i-th position to the current position of the i-th minimum element. That makes the i-th minimum element end up in the i-th position.\n",
        "\n",
        "For example, for a list with 4 elements, the algorithm would perform 3 iterations. Here is how it would process L=[4,2,1,3]:\n",
        "\n",
        "i=1, j=3⟶L=[1,2,4,3]\n",
        "i=2, j=2⟶L=[1,2,4,3]\n",
        "i=3, j=4⟶L=[1,2,3,4]\n",
        "The most expensive part of executing the algorithm on our architecture is the Reverse operation. Therefore, our measure for the cost of each iteration is simply the length of the sublist passed to Reverse, that is, the value j−i+1. The cost of the whole algorithm is the sum of the costs of each iteration.\n",
        "\n",
        "In the example above, the iterations cost 3, 1, and 2, in that order, for a total of 6.\n",
        "\n",
        "Given the initial list, compute the cost of executing Reversort on it.\n",
        "\n",
        "**Input:**\n",
        "The first line of the input gives the number of test cases, T. T test cases follow. Each test case consists of 2 lines. The first line contains a single integer N, representing the number of elements in the input list. The second line contains N distinct integers L1, L2, ..., LN, representing the elements of the input list L, in order.\n",
        "\n",
        "**Output:**\n",
        "For each test case, output one line containing Case #x: y, where x is the test case number (starting from 1) and y is the total cost of executing Reversort on the list given as input."
      ]
    },
    {
      "cell_type": "code",
      "metadata": {
        "colab": {
          "base_uri": "https://localhost:8080/"
        },
        "id": "HYdfB5M9-fqe",
        "outputId": "779492b6-58fd-42e8-e1c8-06837a64ce2f"
      },
      "source": [
        "class Case:\n",
        "    def __init__(self, N, L):\n",
        "        self.N = N\n",
        "        self.L = L\n",
        "        \n",
        "    def posMinimum(self, i):\n",
        "        # min_i = i # since elements of L lies b/w 1 to N\n",
        "        list_m = L[i: len(L)]\n",
        "        mini = min(list_m)\n",
        "        min_i = L.index(mini)\n",
        "        return min_i\n",
        "            \n",
        "    def Reversort(self):\n",
        "        cost = 0\n",
        "        for i in range(0, len(self.L)-1):\n",
        "            j = self.posMinimum(i)\n",
        "            cost += j-i+1\n",
        "            for x in range(i, j//2):\n",
        "                self.L[x], self.L[j-x] = self.L[j-x], self.L[x]\n",
        "        return cost\n",
        "        \n",
        "T = int(input())\n",
        "for t in range(1, T+1):\n",
        "    N = int(input())\n",
        "    L = list(map(int, input().split()))\n",
        "    case = Case( N, L)\n",
        "    t_cost = case.Reversort()\n",
        "    print('Case #{}: {}'.format(t, t_cost))"
      ],
      "execution_count": null,
      "outputs": [
        {
          "output_type": "stream",
          "text": [
            "2\n",
            "4\n",
            "4  2 1 3\n",
            "Case #1: 6\n",
            "7 \n",
            "7 6 5 4 3 2 1 \n",
            "Case #2: 12\n"
          ],
          "name": "stdout"
        }
      ]
    }
  ]
}