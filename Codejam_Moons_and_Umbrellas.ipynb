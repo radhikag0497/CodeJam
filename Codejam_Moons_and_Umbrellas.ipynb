{
  "nbformat": 4,
  "nbformat_minor": 0,
  "metadata": {
    "colab": {
      "name": " Codejam - Moons and Umbrellas.ipynb",
      "provenance": []
    },
    "kernelspec": {
      "name": "python3",
      "display_name": "Python 3"
    },
    "language_info": {
      "name": "python"
    }
  },
  "cells": [
    {
      "cell_type": "markdown",
      "metadata": {
        "id": "oFOLW_mHSfm8"
      },
      "source": [
        "**Problem:**\n",
        "Cody-Jamal is working on his latest piece of abstract art: a mural consisting of a row of waning moons and closed umbrellas. Unfortunately, greedy copyright trolls are claiming that waning moons look like an uppercase C and closed umbrellas look like a J, and they have a copyright on CJ and JC. Therefore, for each time CJ appears in the mural, Cody-Jamal must pay X, and for each time JC appears in the mural, he must pay Y.\n",
        "\n",
        "Cody-Jamal is unwilling to let them compromise his art, so he will not change anything already painted. He decided, however, that the empty spaces he still has could be filled strategically, to minimize the copyright expenses.\n",
        "\n",
        "For example, if CJ?CC? represents the current state of the mural, with C representing a waning moon, J representing a closed umbrella, and ? representing a space that still needs to be painted with either a waning moon or a closed umbrella, he could finish the mural as CJCCCC, CJCCCJ, CJJCCC, or CJJCCJ. The first and third options would require paying X+Y in copyrights, while the second and fourth would require paying 2⋅X+Y.\n",
        "\n",
        "Given the costs X and Y and a string representing the current state of the mural, how much does Cody-Jamal need to pay in copyrights if he finishes his mural in a way that minimizes that cost?\n",
        "\n",
        "**Input:**\n",
        "The first line of the input gives the number of test cases, T. T lines follow. Each line contains two integers X and Y and a string S representing the two costs and the current state of the mural, respectively.\n",
        "\n",
        "**Output:**\n",
        "For each test case, output one line containing Case #x: y, where x is the test case number (starting from 1) and y is the minimum cost that Cody-Jamal needs to pay in copyrights for a finished mural."
      ]
    },
    {
      "cell_type": "markdown",
      "metadata": {
        "id": "tTw7PwT6Sxqw"
      },
      "source": [
        "**Sample input:**\n",
        "\n",
        "4\n",
        "\n",
        "2 3 CJ?CC?\n",
        "\n",
        "4 2 CJCJ\n",
        "\n",
        "1 3 C?J\n",
        "\n",
        "2 5 ??J???"
      ]
    },
    {
      "cell_type": "code",
      "metadata": {
        "id": "rO0AsYFlQT1W"
      },
      "source": [
        "class Case:\n",
        "    def __init__(self, X, Y, S):\n",
        "        self.X = X\n",
        "        self.Y = Y\n",
        "        self.S = S\n",
        "        # CJ - X\n",
        "        # JC - Y\n",
        "\n",
        "    def Cost(self):\n",
        "        large = [True if self.X > self.Y else False]\n",
        "        cost = 0\n",
        "        for s in range(len(self.S)-1):\n",
        "            if self.S[s] == 'C':\n",
        "                if (s+1) < len(self.S) and self.S[s+1] == 'J': cost += self.X\n",
        "            elif self.S[s] == 'J':\n",
        "                if (s+1) < len(self.S) and self.S[s+1] == 'C': cost += self.Y \n",
        "            elif self.S[s] == '?':\n",
        "                if (s+1) < len(self.S):\n",
        "                    if self.S[s-1] == 'C' and self.S[s+1] == 'J': cost += self.X \n",
        "                    elif self.S[s-1] == 'J' and self.S[s+1] == 'C': cost += self.Y\n",
        "                    elif self.S[s-1] == 'J' and self.S[s+1] == 'J': self.S[s] = 'J'\n",
        "                    elif self.S[s-1] == 'C' and self.S[s+1] == 'C': self.S[s] = 'C'\n",
        "                # else:\n",
        "                #     if self.S[s-1] == 'C'\n",
        "        return cost\n",
        "\n",
        "     "
      ],
      "execution_count": 13,
      "outputs": []
    },
    {
      "cell_type": "code",
      "metadata": {
        "colab": {
          "base_uri": "https://localhost:8080/"
        },
        "id": "4pGXwM_1QNjj",
        "outputId": "1102eabe-f09d-4dbb-f235-5554877e352c"
      },
      "source": [
        "\n",
        "T = int(input())\n",
        "for t in range(1, T+1):\n",
        "    X, Y, S = [s for s in input().split(\" \")]\n",
        "    X = int(X)\n",
        "    Y = int(Y)\n",
        "    case = Case(X, Y, S)\n",
        "    t_cost = case.Cost()\n",
        "    print('Case #{}: {}'.format(t, t_cost))"
      ],
      "execution_count": 15,
      "outputs": [
        {
          "output_type": "stream",
          "text": [
            "1\n",
            "2 5 ??J???\n",
            "Case #1: 0\n"
          ],
          "name": "stdout"
        }
      ]
    }
  ]
}